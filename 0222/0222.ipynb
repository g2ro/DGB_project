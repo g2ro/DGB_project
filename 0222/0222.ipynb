{
 "cells": [
  {
   "cell_type": "code",
   "execution_count": 1,
   "id": "a8e9b969",
   "metadata": {},
   "outputs": [
    {
     "data": {
      "text/plain": [
       "['__add__',\n",
       " '__class__',\n",
       " '__class_getitem__',\n",
       " '__contains__',\n",
       " '__delattr__',\n",
       " '__delitem__',\n",
       " '__dir__',\n",
       " '__doc__',\n",
       " '__eq__',\n",
       " '__format__',\n",
       " '__ge__',\n",
       " '__getattribute__',\n",
       " '__getitem__',\n",
       " '__gt__',\n",
       " '__hash__',\n",
       " '__iadd__',\n",
       " '__imul__',\n",
       " '__init__',\n",
       " '__init_subclass__',\n",
       " '__iter__',\n",
       " '__le__',\n",
       " '__len__',\n",
       " '__lt__',\n",
       " '__mul__',\n",
       " '__ne__',\n",
       " '__new__',\n",
       " '__reduce__',\n",
       " '__reduce_ex__',\n",
       " '__repr__',\n",
       " '__reversed__',\n",
       " '__rmul__',\n",
       " '__setattr__',\n",
       " '__setitem__',\n",
       " '__sizeof__',\n",
       " '__str__',\n",
       " '__subclasshook__',\n",
       " 'append',\n",
       " 'clear',\n",
       " 'copy',\n",
       " 'count',\n",
       " 'extend',\n",
       " 'index',\n",
       " 'insert',\n",
       " 'pop',\n",
       " 'remove',\n",
       " 'reverse',\n",
       " 'sort']"
      ]
     },
     "execution_count": 1,
     "metadata": {},
     "output_type": "execute_result"
    }
   ],
   "source": [
    "list_ = ['한지만', 25, 78, 88, 95]\n",
    "dir(list_)"
   ]
  },
  {
   "cell_type": "code",
   "execution_count": 5,
   "id": "420cc69b",
   "metadata": {},
   "outputs": [
    {
     "name": "stdout",
     "output_type": "stream",
     "text": [
      "['한지만', 25, 78, 88, 95, 261, 87.0, 'B']\n"
     ]
    }
   ],
   "source": [
    "tot = list_[2] + list_[3] + list_[4]\n",
    "avg = tot/3.0\n",
    "grade = None\n",
    "if 90<=avg<=100: grade = 'A'\n",
    "elif 80<=avg<90 : grade = 'B'\n",
    "elif 70<=avg<60 : grade = 'C'\n",
    "elif 60<=avg<70 : grade = 'D'\n",
    "else : grade = 'F'\n",
    "list_.append(tot)\n",
    "list_.append(avg)\n",
    "list_.append(grade)\n",
    "print(list_)"
   ]
  },
  {
   "cell_type": "code",
   "execution_count": 6,
   "id": "69934e6c",
   "metadata": {},
   "outputs": [
    {
     "name": "stdout",
     "output_type": "stream",
     "text": [
      "Name : 박지민\n",
      "Korean : 56\n",
      "English : 78\n",
      "Math : 90\n",
      "['박지민', 56, 78, 90]\n"
     ]
    }
   ],
   "source": [
    "student_ =[]\n",
    "name = input('Name : ')\n",
    "student_.append(name)\n",
    "kor = int(input('Korean : '))\n",
    "student_.append(kor)\n",
    "eng = int(input('English : '))\n",
    "student_.append(eng)\n",
    "math = int(input('Math : '))\n",
    "student_.append(math)\n",
    "print(student_)"
   ]
  },
  {
   "cell_type": "code",
   "execution_count": 7,
   "id": "16d7ccd0",
   "metadata": {},
   "outputs": [
    {
     "data": {
      "text/plain": [
       "['__add__',\n",
       " '__class__',\n",
       " '__class_getitem__',\n",
       " '__contains__',\n",
       " '__delattr__',\n",
       " '__dir__',\n",
       " '__doc__',\n",
       " '__eq__',\n",
       " '__format__',\n",
       " '__ge__',\n",
       " '__getattribute__',\n",
       " '__getitem__',\n",
       " '__getnewargs__',\n",
       " '__gt__',\n",
       " '__hash__',\n",
       " '__init__',\n",
       " '__init_subclass__',\n",
       " '__iter__',\n",
       " '__le__',\n",
       " '__len__',\n",
       " '__lt__',\n",
       " '__mul__',\n",
       " '__ne__',\n",
       " '__new__',\n",
       " '__reduce__',\n",
       " '__reduce_ex__',\n",
       " '__repr__',\n",
       " '__rmul__',\n",
       " '__setattr__',\n",
       " '__sizeof__',\n",
       " '__str__',\n",
       " '__subclasshook__',\n",
       " 'count',\n",
       " 'index']"
      ]
     },
     "execution_count": 7,
     "metadata": {},
     "output_type": "execute_result"
    }
   ],
   "source": [
    "#tuple은 ()을 생략해도 된다 => python은 앞에 '(' , ')'가 이미 존재하기 때문에\n",
    "tuple_ ='김지민', 35, 77, 88, 99\n",
    "# tuple_ =('김지민', 35, 77, 88, 99)와 같다\n",
    "dir(tuple_)\n",
    "# __가 없는 것이 함수 이다"
   ]
  },
  {
   "cell_type": "code",
   "execution_count": 8,
   "id": "0cc27fa4",
   "metadata": {},
   "outputs": [
    {
     "ename": "TypeError",
     "evalue": "'tuple' object does not support item assignment",
     "output_type": "error",
     "traceback": [
      "\u001b[0;31m---------------------------------------------------------------------------\u001b[0m",
      "\u001b[0;31mTypeError\u001b[0m                                 Traceback (most recent call last)",
      "Cell \u001b[0;32mIn[8], line 1\u001b[0m\n\u001b[0;32m----> 1\u001b[0m \u001b[43mtuple_\u001b[49m\u001b[43m[\u001b[49m\u001b[38;5;241;43m1\u001b[39;49m\u001b[43m]\u001b[49m \u001b[38;5;241m=\u001b[39m \u001b[38;5;241m45\u001b[39m\n",
      "\u001b[0;31mTypeError\u001b[0m: 'tuple' object does not support item assignment"
     ]
    }
   ],
   "source": [
    "tuple_[1] = 45 # tuple은 수정이 안 된다."
   ]
  },
  {
   "cell_type": "code",
   "execution_count": 12,
   "id": "edea3b8d",
   "metadata": {},
   "outputs": [
    {
     "name": "stdout",
     "output_type": "stream",
     "text": [
      "{'이름': '한지민', '나이': 25, '국어': 77, '영어': 88, '수학': 99, '총점': 264}\n"
     ]
    }
   ],
   "source": [
    "student_ = {'이름' : '한지민', '나이' : 25, '국어' : 77, '영어' : 88, '수학' : 99}\n",
    "tot = student_['국어'] + student_['영어'] + student_['수학']\n",
    "student_['총점'] = tot\n",
    "print(student_)"
   ]
  },
  {
   "cell_type": "code",
   "execution_count": 13,
   "id": "5146cfe3",
   "metadata": {},
   "outputs": [
    {
     "data": {
      "text/plain": [
       "dict"
      ]
     },
     "execution_count": 13,
     "metadata": {},
     "output_type": "execute_result"
    }
   ],
   "source": [
    "type(student_)"
   ]
  },
  {
   "cell_type": "code",
   "execution_count": 26,
   "id": "6e2e9246",
   "metadata": {},
   "outputs": [
    {
     "name": "stdout",
     "output_type": "stream",
     "text": [
      "초를 입력하세요: 3700\n",
      "3700 초는  1 시 1 분 40 초 입니다.\n",
      "3700초는 1시 1분 40초 입니다.\n",
      "3700 초는 1시간 1분 40초 입니다\n"
     ]
    }
   ],
   "source": [
    "time = int(input(\"초를 입력하세요: \"))\n",
    "hour = time //3600\n",
    "min = (time % 3600) //60\n",
    "sec = (time % 3600) %60\n",
    "print(time,'초는 ',hour,'시', min,'분', sec,'초 입니다.')\n",
    "print(f\"{time}초는 {hour}시 {min}분 {sec}초 입니다.\")\n",
    "print(\"%d 초는 %d시간 %d분 %d초 입니다\" %(time, hour, min, sec))"
   ]
  },
  {
   "cell_type": "code",
   "execution_count": 29,
   "id": "13676c17",
   "metadata": {},
   "outputs": [
    {
     "name": "stdout",
     "output_type": "stream",
     "text": [
      "이름 : 김길호\n",
      "키 : 181\n",
      "몸무게 : 75\n"
     ]
    }
   ],
   "source": [
    "### BMI지수\n",
    "name = input(\"이름 : \")\n",
    "height = float(input(\"키 : \"))\n",
    "height = height / 100\n",
    "weight = int(input(\"몸무게 : \"))\n",
    "bmi = weight / (height ** 2)\n",
    "bmi_str = None\n",
    "\n",
    "if bmi >=35 : bmi_str ='고도비만'\n",
    "elif 30<=bmi<35 : bmi_str = '중도 비만'\n",
    "elif 25<=bmi<30 : bmi_str = '경도비만'\n",
    "elif 23<=bmi<25 : bmi_str = '과체중'\n",
    "elif 18.5<=bmi<23 : bmi_str = '정상'\n",
    "else : bim_str = '저체중'"
   ]
  },
  {
   "cell_type": "code",
   "execution_count": 3,
   "id": "dc42f028",
   "metadata": {},
   "outputs": [
    {
     "name": "stdout",
     "output_type": "stream",
     "text": [
      "1 2 3 4 5 6 7 8 9 10 11 12 13 14 15 16 17 18 19 20 21 22 23 24 25 26 27 28 29 30 31 32 33 34 35 36 37 38 39 40 41 42 43 44 45 46 47 48 49 50 51 52 53 54 55 56 57 58 59 60 61 62 63 64 65 66 67 68 69 70 71 72 73 74 75 76 77 78 79 80 81 82 83 84 85 86 87 88 89 90 91 92 93 94 95 96 97 98 99 100 "
     ]
    }
   ],
   "source": [
    "for num in range(1, 301) :\n",
    "    if num % 7 == 0:\n",
    "        print(num, end =\" \")"
   ]
  },
  {
   "cell_type": "code",
   "execution_count": 11,
   "id": "6c8cd9ed",
   "metadata": {},
   "outputs": [
    {
     "name": "stdout",
     "output_type": "stream",
     "text": [
      "7의 배수의 갯수는 71입니다\n"
     ]
    }
   ],
   "source": [
    "count = 0\n",
    "for num in range(1, 501) :\n",
    "    if num % 7 == 0:\n",
    "        count+=1\n",
    "print(f\"7의 배수의 갯수는 {count}입니다\")"
   ]
  },
  {
   "cell_type": "code",
   "execution_count": 12,
   "id": "f3655f72",
   "metadata": {},
   "outputs": [
    {
     "name": "stdout",
     "output_type": "stream",
     "text": [
      "7 14 21 28 35 \n",
      "42 49 56 63 70 \n",
      "77 84 91 98 105 \n",
      "112 119 126 133 140 \n",
      "147 154 161 168 175 \n",
      "182 189 196 203 210 \n",
      "217 224 231 238 245 \n",
      "252 259 266 273 280 \n",
      "287 294 301 308 315 \n",
      "322 329 336 343 350 \n",
      "357 364 371 378 385 \n",
      "392 399 406 413 420 \n",
      "427 434 441 448 455 \n",
      "462 469 476 483 490 \n",
      "497 "
     ]
    }
   ],
   "source": [
    "count = 0\n",
    "for num in range(1,501):\n",
    "    if num % 7 ==0:\n",
    "        count += 1\n",
    "        print(num, end=' ')\n",
    "        if count % 5 == 0:\n",
    "            print()"
   ]
  },
  {
   "cell_type": "code",
   "execution_count": 14,
   "id": "c860af8e",
   "metadata": {},
   "outputs": [
    {
     "name": "stdout",
     "output_type": "stream",
     "text": [
      "1 2 3 4 5 "
     ]
    }
   ],
   "source": [
    "num = 1\n",
    "while num <= 5 :\n",
    "    print(num, end=' ')\n",
    "    num +=1"
   ]
  },
  {
   "cell_type": "code",
   "execution_count": 24,
   "id": "a27faa35",
   "metadata": {},
   "outputs": [
    {
     "name": "stdout",
     "output_type": "stream",
     "text": [
      "A B C D E \n",
      "f g h i j \n",
      "K L M N O \n",
      "p q r s t \n",
      "U V W X Y \n",
      "z "
     ]
    }
   ],
   "source": [
    "count = 0\n",
    "line = 1\n",
    "for num in range(65, 91):\n",
    "    if line % 2 == 0:\n",
    "        print(chr(num+32), end= ' ')\n",
    "    else:\n",
    "        print(chr(num), end= ' ')\n",
    "    count = count + 1\n",
    "    if count % 5 == 0:\n",
    "        line += 1\n",
    "        print() "
   ]
  },
  {
   "cell_type": "code",
   "execution_count": 25,
   "id": "5e606e12",
   "metadata": {},
   "outputs": [
    {
     "name": "stdout",
     "output_type": "stream",
     "text": [
      "sum = 5050\n"
     ]
    }
   ],
   "source": [
    "sum = 0\n",
    "for num in range(1, 101):\n",
    "    sum += num\n",
    "print('sum =', sum)"
   ]
  },
  {
   "cell_type": "code",
   "execution_count": 26,
   "id": "37ba2745",
   "metadata": {},
   "outputs": [],
   "source": [
    "### 함수로 만들기\n",
    "def cal_sum():\n",
    "    sum = 0\n",
    "    for num in range(1,101):\n",
    "        sum +=num\n",
    "    print('sum =', sum)"
   ]
  },
  {
   "cell_type": "code",
   "execution_count": 30,
   "id": "39dfd88c",
   "metadata": {},
   "outputs": [
    {
     "name": "stdout",
     "output_type": "stream",
     "text": [
      "sum = 5050\n"
     ]
    }
   ],
   "source": [
    "### 함수는 call하지 않는한 절대 일을 하지 않는다\n",
    "cal_sum() # Call By Name"
   ]
  },
  {
   "cell_type": "code",
   "execution_count": 33,
   "id": "e98270b3",
   "metadata": {},
   "outputs": [],
   "source": [
    "def calcSum():\n",
    "    sum = 0\n",
    "    for num in range(1, 101):\n",
    "        sum += num\n",
    "    print('1부터 100까지의 합', sum, '입니다.')"
   ]
  },
  {
   "cell_type": "code",
   "execution_count": 34,
   "id": "a5b002bb",
   "metadata": {},
   "outputs": [
    {
     "name": "stdout",
     "output_type": "stream",
     "text": [
      "1부터 100까지의 합 5050 입니다.\n"
     ]
    }
   ],
   "source": [
    "calcSum()"
   ]
  },
  {
   "cell_type": "code",
   "execution_count": 35,
   "id": "8652159e",
   "metadata": {},
   "outputs": [],
   "source": [
    "def calcSum1(last):\n",
    "    sum = 0\n",
    "    for num in range(1, last+1):\n",
    "        sum += num\n",
    "    print(f'1부터 {last}까지의 합 {sum} 입니다.')"
   ]
  },
  {
   "cell_type": "code",
   "execution_count": 36,
   "id": "ae2af4b9",
   "metadata": {},
   "outputs": [
    {
     "name": "stdout",
     "output_type": "stream",
     "text": [
      "1부터 50까지의 합 1275 입니다.\n"
     ]
    }
   ],
   "source": [
    "calcSum1(50) # 이름이 아닌 값으로 호출을 진행 => Call By Value => 옵션이 생긴다."
   ]
  },
  {
   "cell_type": "code",
   "execution_count": 37,
   "id": "3efabea2",
   "metadata": {},
   "outputs": [
    {
     "name": "stdout",
     "output_type": "stream",
     "text": [
      "1부터 10까지의 합 55 입니다.\n"
     ]
    }
   ],
   "source": [
    "calcSum1(10)"
   ]
  },
  {
   "cell_type": "code",
   "execution_count": 38,
   "id": "fad113ca",
   "metadata": {},
   "outputs": [],
   "source": [
    "def calcSum2(start,last):\n",
    "    sum = 0\n",
    "    for num in range(start, last+1):\n",
    "        sum += num\n",
    "    print(f'{start}부터 {last}까지의 합 {sum} 입니다.')"
   ]
  },
  {
   "cell_type": "code",
   "execution_count": 39,
   "id": "28f531d2",
   "metadata": {},
   "outputs": [
    {
     "name": "stdout",
     "output_type": "stream",
     "text": [
      "1부터 50까지의 합 1275 입니다.\n"
     ]
    }
   ],
   "source": [
    "calcSum2(1,50)"
   ]
  },
  {
   "cell_type": "code",
   "execution_count": 40,
   "id": "e99e17d1",
   "metadata": {},
   "outputs": [
    {
     "name": "stdout",
     "output_type": "stream",
     "text": [
      "20부터 50까지의 합 1085 입니다.\n"
     ]
    }
   ],
   "source": [
    "calcSum2(20,50)"
   ]
  },
  {
   "cell_type": "markdown",
   "id": "49ef63e2",
   "metadata": {},
   "source": [
    "    immutable object : number, string   #Call by Value\n",
    "    mutable object : list, tuple, dictionary   #Call by Reference\n",
    "    mutable => 수정이 가능하다."
   ]
  },
  {
   "cell_type": "code",
   "execution_count": 1,
   "id": "768fb325",
   "metadata": {},
   "outputs": [],
   "source": [
    "def changeme(other):\n",
    "    other = 100000\n",
    "    print('In function, other =', other)"
   ]
  },
  {
   "cell_type": "code",
   "execution_count": 2,
   "id": "e8a8e3e3",
   "metadata": {},
   "outputs": [
    {
     "name": "stdout",
     "output_type": "stream",
     "text": [
      "In function, other = 100000\n",
      "original = 10\n"
     ]
    }
   ],
   "source": [
    "original = 10\n",
    "changeme(original)\n",
    "print('original =', original)"
   ]
  },
  {
   "cell_type": "code",
   "execution_count": 4,
   "id": "d2e85957",
   "metadata": {},
   "outputs": [],
   "source": [
    "def changeme(other):\n",
    "    other = '박지민'\n",
    "    print('In function, other =', other)"
   ]
  },
  {
   "cell_type": "code",
   "execution_count": 5,
   "id": "7240b239",
   "metadata": {},
   "outputs": [
    {
     "name": "stdout",
     "output_type": "stream",
     "text": [
      "In function, other = 박지민\n",
      "original = 한지민\n"
     ]
    }
   ],
   "source": [
    "original = '한지민'\n",
    "changeme(original)\n",
    "print('original =', original)"
   ]
  },
  {
   "cell_type": "code",
   "execution_count": 7,
   "id": "710d32fb",
   "metadata": {},
   "outputs": [],
   "source": [
    "### 바뀌지 않는다 => Call By Value"
   ]
  },
  {
   "cell_type": "code",
   "execution_count": 8,
   "id": "8b1a1c79",
   "metadata": {},
   "outputs": [],
   "source": [
    "def changeme(other):\n",
    "    other[2] = 'Straw Berry'\n",
    "    print('In function, other =', other)"
   ]
  },
  {
   "cell_type": "code",
   "execution_count": 9,
   "id": "4107c6b5",
   "metadata": {},
   "outputs": [
    {
     "name": "stdout",
     "output_type": "stream",
     "text": [
      "In function, other = ['Apple', 'Mango', 'Straw Berry']\n",
      "original = ['Apple', 'Mango', 'Straw Berry']\n"
     ]
    }
   ],
   "source": [
    "original = ['Apple', 'Mango', 'Banana']\n",
    "changeme(original)\n",
    "print('original =', original)"
   ]
  },
  {
   "cell_type": "code",
   "execution_count": 10,
   "id": "60af2119",
   "metadata": {},
   "outputs": [],
   "source": [
    "def changeme(other):\n",
    "    other['Age'] = '45'\n",
    "    print('In function, other =', other)"
   ]
  },
  {
   "cell_type": "code",
   "execution_count": 11,
   "id": "6283ef7e",
   "metadata": {},
   "outputs": [
    {
     "name": "stdout",
     "output_type": "stream",
     "text": [
      "In function, other = {'Age': '45'}\n",
      "original = {'Age': '45'}\n"
     ]
    }
   ],
   "source": [
    "original = {'Age' : 25}\n",
    "changeme(original)\n",
    "print('original =', original)"
   ]
  },
  {
   "cell_type": "code",
   "execution_count": 16,
   "id": "63226cff",
   "metadata": {},
   "outputs": [],
   "source": [
    "def input_student(student):\n",
    "    student['name'] = input('Name : ')\n",
    "    student['age'] = input('Age : ')"
   ]
  },
  {
   "cell_type": "code",
   "execution_count": 17,
   "id": "6a8229e7",
   "metadata": {},
   "outputs": [],
   "source": [
    "def output_student(student):\n",
    "    print('이름 = %s, 나이 = %s입니다.'%(student['name'],student['age']))"
   ]
  },
  {
   "cell_type": "code",
   "execution_count": 18,
   "id": "aee60477",
   "metadata": {},
   "outputs": [
    {
     "name": "stdout",
     "output_type": "stream",
     "text": [
      "__main__\n"
     ]
    }
   ],
   "source": [
    "print(__name__)  \n",
    "# 파이썬에서 모듈은 .py가 모듈이며 실행하는 파일은 main이다 \n",
    "# => 서로서로가 main이라고 판단한다 그래서 호출하는 것이 main으로 정한다"
   ]
  },
  {
   "cell_type": "code",
   "execution_count": 19,
   "id": "441c9c6b",
   "metadata": {},
   "outputs": [
    {
     "name": "stdout",
     "output_type": "stream",
     "text": [
      "Name : 한지민\n",
      "Age : 25\n",
      "이름 = 한지민, 나이 = 25입니다.\n"
     ]
    }
   ],
   "source": [
    "student_ = {}\n",
    "if __name__ == '__main__': # => 실행주체가 main이기 때문에\n",
    "    input_student(student_)\n",
    "    output_student(student_)"
   ]
  },
  {
   "cell_type": "code",
   "execution_count": 20,
   "id": "d499f522",
   "metadata": {},
   "outputs": [
    {
     "name": "stdout",
     "output_type": "stream",
     "text": [
      "Requirement already satisfied: nbconvert in ./0222/lib/python3.10/site-packages (7.2.9)\n",
      "Requirement already satisfied: defusedxml in ./0222/lib/python3.10/site-packages (from nbconvert) (0.7.1)\n",
      "Requirement already satisfied: pygments>=2.4.1 in ./0222/lib/python3.10/site-packages (from nbconvert) (2.14.0)\n",
      "Requirement already satisfied: nbclient>=0.5.0 in ./0222/lib/python3.10/site-packages (from nbconvert) (0.7.2)\n",
      "Requirement already satisfied: pandocfilters>=1.4.1 in ./0222/lib/python3.10/site-packages (from nbconvert) (1.5.0)\n",
      "Requirement already satisfied: jinja2>=3.0 in ./0222/lib/python3.10/site-packages (from nbconvert) (3.1.2)\n",
      "Requirement already satisfied: jupyterlab-pygments in ./0222/lib/python3.10/site-packages (from nbconvert) (0.2.2)\n",
      "Requirement already satisfied: bleach in ./0222/lib/python3.10/site-packages (from nbconvert) (6.0.0)\n",
      "Requirement already satisfied: jupyter-core>=4.7 in ./0222/lib/python3.10/site-packages (from nbconvert) (5.2.0)\n",
      "Requirement already satisfied: markupsafe>=2.0 in ./0222/lib/python3.10/site-packages (from nbconvert) (2.1.2)\n",
      "Requirement already satisfied: mistune<3,>=2.0.3 in ./0222/lib/python3.10/site-packages (from nbconvert) (2.0.5)\n",
      "Requirement already satisfied: nbformat>=5.1 in ./0222/lib/python3.10/site-packages (from nbconvert) (5.7.3)\n",
      "Requirement already satisfied: beautifulsoup4 in ./0222/lib/python3.10/site-packages (from nbconvert) (4.11.2)\n",
      "Requirement already satisfied: tinycss2 in ./0222/lib/python3.10/site-packages (from nbconvert) (1.2.1)\n",
      "Requirement already satisfied: packaging in ./0222/lib/python3.10/site-packages (from nbconvert) (23.0)\n",
      "Requirement already satisfied: traitlets>=5.0 in ./0222/lib/python3.10/site-packages (from nbconvert) (5.9.0)\n",
      "Requirement already satisfied: platformdirs>=2.5 in ./0222/lib/python3.10/site-packages (from jupyter-core>=4.7->nbconvert) (3.0.0)\n",
      "Requirement already satisfied: jupyter-client>=6.1.12 in ./0222/lib/python3.10/site-packages (from nbclient>=0.5.0->nbconvert) (8.0.3)\n",
      "Requirement already satisfied: jsonschema>=2.6 in ./0222/lib/python3.10/site-packages (from nbformat>=5.1->nbconvert) (4.17.3)\n",
      "Requirement already satisfied: fastjsonschema in ./0222/lib/python3.10/site-packages (from nbformat>=5.1->nbconvert) (2.16.2)\n",
      "Requirement already satisfied: soupsieve>1.2 in ./0222/lib/python3.10/site-packages (from beautifulsoup4->nbconvert) (2.4)\n",
      "Requirement already satisfied: six>=1.9.0 in ./0222/lib/python3.10/site-packages (from bleach->nbconvert) (1.16.0)\n",
      "Requirement already satisfied: webencodings in ./0222/lib/python3.10/site-packages (from bleach->nbconvert) (0.5.1)\n",
      "Requirement already satisfied: attrs>=17.4.0 in ./0222/lib/python3.10/site-packages (from jsonschema>=2.6->nbformat>=5.1->nbconvert) (22.2.0)\n",
      "Requirement already satisfied: pyrsistent!=0.17.0,!=0.17.1,!=0.17.2,>=0.14.0 in ./0222/lib/python3.10/site-packages (from jsonschema>=2.6->nbformat>=5.1->nbconvert) (0.19.3)\n",
      "Requirement already satisfied: pyzmq>=23.0 in ./0222/lib/python3.10/site-packages (from jupyter-client>=6.1.12->nbclient>=0.5.0->nbconvert) (25.0.0)\n",
      "Requirement already satisfied: tornado>=6.2 in ./0222/lib/python3.10/site-packages (from jupyter-client>=6.1.12->nbclient>=0.5.0->nbconvert) (6.2)\n",
      "Requirement already satisfied: python-dateutil>=2.8.2 in ./0222/lib/python3.10/site-packages (from jupyter-client>=6.1.12->nbclient>=0.5.0->nbconvert) (2.8.2)\n",
      "\n",
      "\u001b[1m[\u001b[0m\u001b[34;49mnotice\u001b[0m\u001b[1;39;49m]\u001b[0m\u001b[39;49m A new release of pip is available: \u001b[0m\u001b[31;49m23.0\u001b[0m\u001b[39;49m -> \u001b[0m\u001b[32;49m23.0.1\u001b[0m\n",
      "\u001b[1m[\u001b[0m\u001b[34;49mnotice\u001b[0m\u001b[1;39;49m]\u001b[0m\u001b[39;49m To update, run: \u001b[0m\u001b[32;49mpip install --upgrade pip\u001b[0m\n",
      "Note: you may need to restart the kernel to use updated packages.\n"
     ]
    }
   ],
   "source": [
    "pip install nbconvert"
   ]
  },
  {
   "cell_type": "code",
   "execution_count": 21,
   "id": "2b180487",
   "metadata": {},
   "outputs": [],
   "source": [
    "import nbconvert"
   ]
  },
  {
   "cell_type": "code",
   "execution_count": 22,
   "id": "60a0209f",
   "metadata": {},
   "outputs": [
    {
     "ename": "SyntaxError",
     "evalue": "invalid syntax (1992505222.py, line 1)",
     "output_type": "error",
     "traceback": [
      "\u001b[0;36m  Cell \u001b[0;32mIn[22], line 1\u001b[0;36m\u001b[0m\n\u001b[0;31m    jupyter nbconvert --to script myinput.ipynb\u001b[0m\n\u001b[0m            ^\u001b[0m\n\u001b[0;31mSyntaxError\u001b[0m\u001b[0;31m:\u001b[0m invalid syntax\n"
     ]
    }
   ],
   "source": [
    "jupyter nbconvert --to script myinput.ipynb"
   ]
  },
  {
   "cell_type": "code",
   "execution_count": 1,
   "id": "4f283939",
   "metadata": {},
   "outputs": [
    {
     "name": "stdout",
     "output_type": "stream",
     "text": [
      "hello\n"
     ]
    }
   ],
   "source": [
    "print(\"hello\")"
   ]
  },
  {
   "cell_type": "code",
   "execution_count": 2,
   "id": "86fc7282",
   "metadata": {},
   "outputs": [],
   "source": [
    "import myinput"
   ]
  },
  {
   "cell_type": "code",
   "execution_count": 5,
   "id": "59c77e4a",
   "metadata": {},
   "outputs": [
    {
     "name": "stdout",
     "output_type": "stream",
     "text": [
      "Name : 한지민\n",
      "Age : 25\n",
      "{'name': '한지민', 'age': '25'}\n"
     ]
    }
   ],
   "source": [
    "student ={}\n",
    "myinput.input_student(student)\n",
    "print(student)"
   ]
  },
  {
   "cell_type": "code",
   "execution_count": 1,
   "id": "1249a9a3",
   "metadata": {},
   "outputs": [],
   "source": [
    "import util"
   ]
  },
  {
   "cell_type": "code",
   "execution_count": 4,
   "id": "917f8c76",
   "metadata": {},
   "outputs": [
    {
     "name": "stdout",
     "output_type": "stream",
     "text": [
      "INCH =  2.54\n",
      "1부터 100까지의 합은 5050\n"
     ]
    }
   ],
   "source": [
    "print('INCH = ', util.INCH)\n",
    "print('1부터 100까지의 합은',util.calcSum())"
   ]
  }
 ],
 "metadata": {
  "kernelspec": {
   "display_name": "Python 3 (ipykernel)",
   "language": "python",
   "name": "python3"
  },
  "language_info": {
   "codemirror_mode": {
    "name": "ipython",
    "version": 3
   },
   "file_extension": ".py",
   "mimetype": "text/x-python",
   "name": "python",
   "nbconvert_exporter": "python",
   "pygments_lexer": "ipython3",
   "version": "3.10.6"
  }
 },
 "nbformat": 4,
 "nbformat_minor": 5
}
