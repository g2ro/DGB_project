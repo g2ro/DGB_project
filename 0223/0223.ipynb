{
 "cells": [
  {
   "cell_type": "code",
   "execution_count": 1,
   "id": "e68398ff",
   "metadata": {},
   "outputs": [],
   "source": [
    "import input, calc, output"
   ]
  },
  {
   "cell_type": "code",
   "execution_count": 2,
   "id": "4b9b0fd3",
   "metadata": {},
   "outputs": [
    {
     "name": "stdout",
     "output_type": "stream",
     "text": [
      "Program is Stating...\n",
      "Name : 김길호\n",
      "Korean : 98\n",
      "English : 98\n",
      "Math : 98\n",
      "이름 =  김길호  국어 =  98  영어 =  98  수학 =  98  총점 =  294  평균 =  98.0  성적 =  A\n",
      "Program is over...\n"
     ]
    }
   ],
   "source": [
    "student = {}\n",
    "print('Program is Stating...')\n",
    "input.input_student(student)\n",
    "calc.calc_student(student)\n",
    "output.output_student(student)\n",
    "print('Program is over...')"
   ]
  },
  {
   "cell_type": "code",
   "execution_count": 1,
   "id": "ab74fabc",
   "metadata": {},
   "outputs": [
    {
     "name": "stdout",
     "output_type": "stream",
     "text": [
      "Defaulting to user installation because normal site-packages is not writeable\n",
      "Requirement already satisfied: mysql-connector-python in /home/ubuntu/.local/lib/python3.10/site-packages (8.0.32)\n",
      "Requirement already satisfied: protobuf<=3.20.3,>=3.11.0 in /home/ubuntu/.local/lib/python3.10/site-packages (from mysql-connector-python) (3.20.3)\n",
      "Note: you may need to restart the kernel to use updated packages.\n"
     ]
    }
   ],
   "source": [
    "pip install mysql-connector-python"
   ]
  },
  {
   "cell_type": "code",
   "execution_count": 2,
   "id": "ca2ea929",
   "metadata": {},
   "outputs": [],
   "source": [
    "import mysql.connector"
   ]
  },
  {
   "cell_type": "code",
   "execution_count": 8,
   "id": "150ce29a",
   "metadata": {},
   "outputs": [],
   "source": [
    "host='ec2-43-200-255-254.ap-northeast-2.compute.amazonaws.com' # EC2의 public DNS\n",
    "user = 'root'\n",
    "password = 'pythonmysql'\n",
    "port = 3306\n",
    "database = 'mycompany'\n",
    "\n",
    "mydb = mysql.connector.connect(\n",
    "  host= host,\n",
    "  user= user,\n",
    "  password= password,\n",
    "    port = port,\n",
    "    database = database\n",
    ")\n",
    "\n",
    "mycursor = mydb.cursor()\n",
    "\n",
    "mycursor.execute(\"SHOW DATABASES\")\n",
    "\n",
    "for x in mycursor:\n",
    "    print(x)\n",
    "\n",
    "mydb.close() # db를 connector로 열었으면 close()함수로 닫아야한다."
   ]
  },
  {
   "cell_type": "code",
   "execution_count": 9,
   "id": "c4e54f4a",
   "metadata": {},
   "outputs": [],
   "source": [
    "host='ec2-43-200-255-254.ap-northeast-2.compute.amazonaws.com' # EC2의 public DNS\n",
    "user = 'root'\n",
    "password = 'pythonmysql'\n",
    "port = 3306\n",
    "database = 'mycompany'\n",
    "\n",
    "mydb = mysql.connector.connect(\n",
    "  host= host,\n",
    "  user= user,\n",
    "  password= password,\n",
    "    port = port,\n",
    "    database = database\n",
    ")\n",
    "\n",
    "mycursor = mydb.cursor()\n",
    "\n",
    "query = \"\"\"\n",
    "CREATE TABLE member(\n",
    "    userid   varchar(12)  NOT NULL PRIMARY KEY, \n",
    "    username varchar(20) NOT NULL,\n",
    "    age TINYINT,\n",
    "    city varchar(30)\n",
    ")\n",
    "\n",
    "\"\"\"\n",
    "mycursor.execute(query)\n",
    "# mycursor.execute(\"SHOW DATABASES\")\n",
    "\n",
    "# for x in mycursor:\n",
    "#     print(x)\n",
    "\n",
    "mydb.close() # db를 connector로 열었으면 close()함수로 닫아야한다."
   ]
  },
  {
   "cell_type": "code",
   "execution_count": 10,
   "id": "8faef1df",
   "metadata": {},
   "outputs": [],
   "source": [
    "host='ec2-43-200-255-254.ap-northeast-2.compute.amazonaws.com' # EC2의 public DNS\n",
    "user = 'root'\n",
    "password = 'pythonmysql'\n",
    "port = 3306\n",
    "database = 'mycompany'\n",
    "\n",
    "mydb = mysql.connector.connect(\n",
    "  host= host,\n",
    "  user= user,\n",
    "  password= password,\n",
    "    port = port,\n",
    "    database = database\n",
    ")\n",
    "\n",
    "mycursor = mydb.cursor()\n",
    "\n",
    "# query = \"\"\"\n",
    "# CREATE TABLE member(\n",
    "#     userid   varchar(12)  NOT NULL PRIMARY KEY, \n",
    "#     username varchar(20) NOT NULL,\n",
    "#     age TINYINT,\n",
    "#     city varchar(30)\n",
    "# )\n",
    "\n",
    "# \"\"\"\n",
    "\n",
    "query = \"\"\"\n",
    "INSERT INTO member\n",
    "VALUES('jimin','한지민', 25, '대구광역시');\n",
    "COMMIT;\n",
    "\n",
    "\"\"\"\n",
    "mycursor.execute(query)\n",
    "# mycursor.execute(\"SHOW DATABASES\")\n",
    "\n",
    "# for x in mycursor:\n",
    "#     print(x)\n",
    "\n",
    "mydb.close() # db를 connector로 열었으면 close()함수로 닫아야한다."
   ]
  },
  {
   "cell_type": "code",
   "execution_count": null,
   "id": "849e564b",
   "metadata": {},
   "outputs": [],
   "source": []
  }
 ],
 "metadata": {
  "kernelspec": {
   "display_name": "Python 3 (ipykernel)",
   "language": "python",
   "name": "python3"
  },
  "language_info": {
   "codemirror_mode": {
    "name": "ipython",
    "version": 3
   },
   "file_extension": ".py",
   "mimetype": "text/x-python",
   "name": "python",
   "nbconvert_exporter": "python",
   "pygments_lexer": "ipython3",
   "version": "3.10.6"
  }
 },
 "nbformat": 4,
 "nbformat_minor": 5
}
